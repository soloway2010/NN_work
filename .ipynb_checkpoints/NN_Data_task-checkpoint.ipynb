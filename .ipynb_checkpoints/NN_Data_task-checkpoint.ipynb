{
 "cells": [
  {
   "cell_type": "code",
   "execution_count": 1,
   "metadata": {},
   "outputs": [],
   "source": [
    "import bz2\n",
    "import numpy as np\n",
    "import ipywidgets as widgets\n",
    "import pandas as pd\n",
    "import seaborn as sns\n",
    "import matplotlib.pyplot as plt\n",
    "from StringIO import StringIO"
   ]
  },
  {
   "cell_type": "markdown",
   "metadata": {},
   "source": [
    "Считываю базу в DataFrame и заменяю дату начала события на год начала:"
   ]
  },
  {
   "cell_type": "code",
   "execution_count": 2,
   "metadata": {},
   "outputs": [
    {
     "name": "stderr",
     "output_type": "stream",
     "text": [
      "/home/soloway2010/anaconda2/lib/python2.7/site-packages/IPython/core/interactiveshell.py:2714: DtypeWarning: Columns (0,4,8,13,14,15) have mixed types. Specify dtype option on import or set low_memory=False.\n",
      "  interactivity=interactivity, compiler=compiler, result=result)\n"
     ]
    }
   ],
   "source": [
    "archive = bz2.BZ2File('StormData.csv.bz2', 'r')\n",
    "data_csv = archive.readline()\n",
    "\n",
    "# Пропускаю первые 600к записей\n",
    "for i in xrange(600000):\n",
    "    archive.readline()\n",
    "#\n",
    "\n",
    "for i in xrange(200000):\n",
    "    data_csv += archive.readline()\n",
    "    \n",
    "archive.close()\n",
    "\n",
    "data = pd.read_csv(StringIO(data_csv))\n",
    "data = data.iloc[1:]\n",
    "data['BGN_DATE'] = pd.to_datetime(data['BGN_DATE']).dt.year"
   ]
  },
  {
   "cell_type": "markdown",
   "metadata": {},
   "source": [
    "Исправляю ошибки в типах событий:"
   ]
  },
  {
   "cell_type": "code",
   "execution_count": 3,
   "metadata": {},
   "outputs": [],
   "source": [
    "data = data.dropna(subset=[\"EVTYPE\"])\n",
    "data.loc[data.EVTYPE.str.contains(\"BLIZZARD\"), \"EVTYPE\"] = \"BLIZZARD\"\n",
    "data.loc[data.EVTYPE.str.contains(\"FLOOD\"), \"EVTYPE\"] = \"FLOOD\"\n",
    "data.loc[data.EVTYPE.str.contains(\"DRY\"), \"EVTYPE\"] = \"DRY\"\n",
    "data.loc[data.EVTYPE.str.contains(\"HAIL\"), \"EVTYPE\"] = \"HAIL\"\n",
    "data.loc[data.EVTYPE.str.contains(\"WIND\"), \"EVTYPE\"] = \"WIND\"\n",
    "data.loc[data.EVTYPE.str.contains(\"HEAVY RAIN\"), \"EVTYPE\"] = \"HEAVY RAIN\"\n",
    "data.loc[data.EVTYPE.str.contains(\"HEAVY SNOW\"), \"EVTYPE\"] = \"HEAVY SNOW\"\n",
    "data.loc[data.EVTYPE.str.contains(\"LIGHTNING\"), \"EVTYPE\"] = \"LIGHTNING\"\n",
    "data.loc[data.EVTYPE.str.contains(\"LIGHTING\"), \"EVTYPE\"] = \"LIGHTNING\"\n",
    "data.loc[data.EVTYPE.str.contains(\"LIGNTNING\"), \"EVTYPE\"] = \"LIGHTNING\"\n",
    "data.loc[data.EVTYPE.str.contains(\"TORNADO\"), \"EVTYPE\"] = \"TORNADO\"\n",
    "data.loc[data.EVTYPE.str.contains(\"WATERSPOUT\"), \"EVTYPE\"] = \"WATERSPOUT\"\n",
    "data.loc[data.EVTYPE.str.contains(\"TROPICAL STORM\"), \"EVTYPE\"] = \"TROPICAL STORM\"\n",
    "data.loc[data.EVTYPE.str.contains(\"THUNDERSTORM\"), \"EVTYPE\"] = \"THUNDERSTORM\"\n",
    "data.loc[data.EVTYPE.str.contains(\"HURRICANE\"), \"EVTYPE\"] = \"HURRICANE\"\n",
    "data.loc[data.EVTYPE.str.contains(\"MUD SLIDE\"), \"EVTYPE\"] = \"MUD SLIDE\"\n",
    "data.loc[data.EVTYPE.str.contains(\"RECORD HIGH\"), \"EVTYPE\"] = \"RECORD HIGH TEMPERATURE\"\n",
    "data.loc[data.EVTYPE.str.contains(\"WINTER STORM\"), \"EVTYPE\"] = \"WINDTER STORM\""
   ]
  },
  {
   "cell_type": "markdown",
   "metadata": {},
   "source": [
    "## 1. Fatalities and injuries per natural events from 1950 to 2011\n",
    "Группирую данные по году и типу события, суммирую смерти и травмы:"
   ]
  },
  {
   "cell_type": "code",
   "execution_count": 4,
   "metadata": {},
   "outputs": [],
   "source": [
    "fat_data = data.groupby(['BGN_DATE', 'EVTYPE'])[['FATALITIES', 'INJURIES']].sum().reset_index()"
   ]
  },
  {
   "cell_type": "code",
   "execution_count": 5,
   "metadata": {},
   "outputs": [
    {
     "data": {
      "application/vnd.jupyter.widget-view+json": {
       "model_id": "8f52a0be9bb84893820250f9dbcf10d8",
       "version_major": 2,
       "version_minor": 0
      },
      "text/plain": [
       "aW50ZXJhY3RpdmUoY2hpbGRyZW49KFNlbGVjdE11bHRpcGxlKGRlc2NyaXB0aW9uPXUnRXZlbnQgdHlwZTonLCBpbmRleD0oMjIsKSwgbGF5b3V0PUxheW91dChoZWlnaHQ9dScxNjBweCcpLCDigKY=\n"
      ]
     },
     "metadata": {},
     "output_type": "display_data"
    },
    {
     "data": {
      "text/plain": [
       "<function __main__.display_diagram>"
      ]
     },
     "execution_count": 5,
     "metadata": {},
     "output_type": "execute_result"
    }
   ],
   "source": [
    "def display_diagram(w):\n",
    "    fig, ax = plt.subplots(2, 1)\n",
    "    fig.set_size_inches(10, 10)\n",
    "    ax_d_1 = sns.lineplot(x='BGN_DATE', y='FATALITIES', hue=\"EVTYPE\", data=fat_data[fat_data[\"EVTYPE\"].isin(w)], ax=ax[0])\n",
    "    ax_d_2 = sns.lineplot(x='BGN_DATE', y='INJURIES', hue=\"EVTYPE\", data=fat_data[fat_data[\"EVTYPE\"].isin(w)], ax=ax[1])\n",
    "    ax_d_1.set(xlabel='Year')\n",
    "    ax_d_2.set(xlabel='Year')\n",
    "    plt.show()\n",
    "\n",
    "w = widgets.SelectMultiple(options=set(fat_data[\"EVTYPE\"]), value=[\"EXCESSIVE HEAT\"], description=\"Event type:\", layout=widgets.Layout(height='160px'))\n",
    "widgets.interact(display_diagram, w=w)"
   ]
  },
  {
   "cell_type": "markdown",
   "metadata": {},
   "source": [
    "## 2. Indirect fatalities and injuries\n",
    "- Убираю все записи с отсутсвующими заметками\n",
    "- Вычисляю количество смертей и травм в сумме\n",
    "- Подсчитываю, как часто встречается слово \"indirect\" в заметках\n",
    "- Группирую данные по типу события и суммирую по косвенному и некосвенному количеству смертей и травм\n",
    "- Вычисляю процент некосвенных смертей и травм"
   ]
  },
  {
   "cell_type": "code",
   "execution_count": 9,
   "metadata": {},
   "outputs": [],
   "source": [
    "remark_data = data.dropna(subset=[\"REMARKS\"])\n",
    "\n",
    "indir_data = remark_data[[\"EVTYPE\"]].copy()\n",
    "indir_data[\"INDIRECT_IMPACT\"] = remark_data.REMARKS.apply(lambda s : s.count(\"indirect\"))\n",
    "indir_data[\"TOTAL_CAS\"] = remark_data.FATALITIES + remark_data.INJURIES + indir_data.INDIRECT_IMPACT\n",
    "\n",
    "indir_data = indir_data.groupby(\"EVTYPE\")[[\"TOTAL_CAS\", \"INDIRECT_IMPACT\"]].sum().reset_index()\n",
    "indir_data[\"INDIRECT_PCT\"] = indir_data.INDIRECT_IMPACT / indir_data.TOTAL_CAS * 100\n",
    "\n",
    "indir_data = indir_data.fillna(0).sort_values(\"INDIRECT_PCT\", ascending=False)\n",
    "indir_data = indir_data[indir_data.INDIRECT_PCT > 0]"
   ]
  },
  {
   "cell_type": "code",
   "execution_count": 10,
   "metadata": {},
   "outputs": [
    {
     "data": {
      "text/plain": [
       "<matplotlib.axes._subplots.AxesSubplot at 0x7efdd1fbbd90>"
      ]
     },
     "execution_count": 10,
     "metadata": {},
     "output_type": "execute_result"
    },
    {
     "data": {
      "image/png": "[encoded data removed]",
      "text/plain": [
       "<Figure size 432x288 with 1 Axes>"
      ]
     },
     "metadata": {
      "needs_background": "light"
     },
     "output_type": "display_data"
    }
   ],
   "source": [
    "g = sns.barplot(x='EVTYPE', y='INDIRECT_PCT', data=indir_data)\n",
    "g.set_xticklabels(indir_data['EVTYPE'], rotation=-90)\n",
    "g.set(xlabel='Event type', ylabel='Indirect impact, %')\n",
    "g"
   ]
  },
  {
   "cell_type": "markdown",
   "metadata": {},
   "source": [
    "## 3. Calculate property loss\n",
    "- Убираю все записи с неправильными обозначениями степени повреждений\n",
    "- Заменяю обозначения на соответсвующие значения\n",
    "- Вычисляю повреждения собственности и полей\n",
    "- Группирую данные по типу события и суммирую по повреждениям"
   ]
  },
  {
   "cell_type": "code",
   "execution_count": 11,
   "metadata": {},
   "outputs": [],
   "source": [
    "loss_data = data[['EVTYPE', 'PROPDMG', 'PROPDMGEXP', 'CROPDMG', 'CROPDMGEXP']].fillna(0).copy()\n",
    "loss_data = loss_data[loss_data.PROPDMGEXP.isin(['K', 'k', 'M', 'm', 'B', 'b', 0])]\n",
    "loss_data = loss_data[loss_data.CROPDMGEXP.isin(['K', 'k', 'M', 'm', 'B', 'b', 0])]\n",
    "\n",
    "loss_data.loc[loss_data['PROPDMGEXP'].isin(['K', 'k']), 'PROPDMGEXP'] = 1000\n",
    "loss_data.loc[loss_data['PROPDMGEXP'].isin(['M', 'm']), 'PROPDMGEXP'] = 1000000\n",
    "loss_data.loc[loss_data['PROPDMGEXP'].isin(['B', 'b']), 'PROPDMGEXP'] = 1000000000\n",
    "loss_data.loc[loss_data['CROPDMGEXP'].isin(['K', 'k']), 'CROPDMGEXP'] = 1000\n",
    "loss_data.loc[loss_data['CROPDMGEXP'].isin(['M', 'm']), 'CROPDMGEXP'] = 1000000\n",
    "loss_data.loc[loss_data['CROPDMGEXP'].isin(['B', 'b']), 'CROPDMGEXP'] = 1000000000\n",
    "\n",
    "loss_data['LOSS'] = loss_data['PROPDMG']*loss_data['PROPDMGEXP'] + loss_data['CROPDMG']*loss_data['CROPDMGEXP']"
   ]
  },
  {
   "cell_type": "code",
   "execution_count": 12,
   "metadata": {},
   "outputs": [],
   "source": [
    "loss_data = loss_data.groupby(['EVTYPE'])['LOSS'].sum().reset_index()"
   ]
  },
  {
   "cell_type": "markdown",
   "metadata": {},
   "source": [
    "## 4. Top 10 most significant losses by events\n",
    "- Сортирую данные по количеству повреждений и вывожу график"
   ]
  },
  {
   "cell_type": "code",
   "execution_count": 13,
   "metadata": {},
   "outputs": [],
   "source": [
    "loss_data = loss_data.sort_values('LOSS', ascending=False)[:][:10]"
   ]
  },
  {
   "cell_type": "code",
   "execution_count": 14,
   "metadata": {},
   "outputs": [
    {
     "data": {
      "text/plain": [
       "<matplotlib.axes._subplots.AxesSubplot at 0x7efdd1e8a0d0>"
      ]
     },
     "execution_count": 14,
     "metadata": {},
     "output_type": "execute_result"
    },
    {
     "data": {
      "image/png": "[encoded data removed]",
      "text/plain": [
       "<Figure size 432x288 with 1 Axes>"
      ]
     },
     "metadata": {
      "needs_background": "light"
     },
     "output_type": "display_data"
    }
   ],
   "source": [
    "g = sns.barplot(x='EVTYPE', y='LOSS', data=loss_data)\n",
    "g.set_xticklabels(loss_data['EVTYPE'], rotation=-90)\n",
    "g.set(xlabel='Event type', ylabel='Property and crop loss, $')\n",
    "g"
   ]
  },
  {
   "cell_type": "code",
   "execution_count": null,
   "metadata": {},
   "outputs": [],
   "source": []
  }
 ],
 "metadata": {
  "kernelspec": {
   "display_name": "Python 2",
   "language": "python",
   "name": "python2"
  },
  "language_info": {
   "codemirror_mode": {
    "name": "ipython",
    "version": 2
   },
   "file_extension": ".py",
   "mimetype": "text/x-python",
   "name": "python",
   "nbconvert_exporter": "python",
   "pygments_lexer": "ipython2",
   "version": "2.7.15"
  }
 },
 "nbformat": 4,
 "nbformat_minor": 2
}
